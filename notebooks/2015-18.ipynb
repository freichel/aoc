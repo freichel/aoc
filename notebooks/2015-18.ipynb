{
 "cells": [
  {
   "cell_type": "code",
   "execution_count": 1,
   "id": "fa0e60e6",
   "metadata": {},
   "outputs": [],
   "source": [
    "import numpy as np"
   ]
  },
  {
   "cell_type": "code",
   "execution_count": 52,
   "id": "bcda7db8",
   "metadata": {},
   "outputs": [
    {
     "data": {
      "text/plain": [
       "924"
      ]
     },
     "execution_count": 52,
     "metadata": {},
     "output_type": "execute_result"
    }
   ],
   "source": [
    "field = np.array([[1 if c == \"#\" else 0 for c in line.strip()] for line in open(\"2015-18.txt\").readlines()], dtype = bool)\n",
    "field[0, 0] = True\n",
    "field[0, field.shape[0] - 1] = True\n",
    "field[field.shape[1] - 1, 0] = True\n",
    "field[field.shape[1] - 1, field.shape[0] - 1] = True\n",
    "for run in range(100):\n",
    "    a = np.pad(field, 1)\n",
    "    for y in range(field.shape[1]):\n",
    "        for x in range(field.shape[0]):\n",
    "            if (y, x) in [(0, 0), (0, field.shape[0] - 1), (field.shape[1] - 1, 0), (field.shape[1] - 1, field.shape[0] - 1)]:\n",
    "                continue\n",
    "            if a[y + 1, x + 1]:\n",
    "                if np.sum(a[y:y + 3, x:x + 3]) not in (3, 4):\n",
    "                    field[y, x] = False\n",
    "            else:\n",
    "                if np.sum(a[y:y + 3, x:x + 3]) == 3:\n",
    "                    field[y, x] = True\n",
    "np.sum(field)"
   ]
  },
  {
   "cell_type": "code",
   "execution_count": null,
   "id": "7180e28d",
   "metadata": {},
   "outputs": [],
   "source": []
  }
 ],
 "metadata": {
  "kernelspec": {
   "display_name": "Python 3 (ipykernel)",
   "language": "python",
   "name": "python3"
  },
  "language_info": {
   "codemirror_mode": {
    "name": "ipython",
    "version": 3
   },
   "file_extension": ".py",
   "mimetype": "text/x-python",
   "name": "python",
   "nbconvert_exporter": "python",
   "pygments_lexer": "ipython3",
   "version": "3.8.6"
  },
  "toc": {
   "base_numbering": 1,
   "nav_menu": {},
   "number_sections": true,
   "sideBar": true,
   "skip_h1_title": false,
   "title_cell": "Table of Contents",
   "title_sidebar": "Contents",
   "toc_cell": false,
   "toc_position": {},
   "toc_section_display": true,
   "toc_window_display": false
  }
 },
 "nbformat": 4,
 "nbformat_minor": 5
}
