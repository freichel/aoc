{
 "cells": [
  {
   "cell_type": "markdown",
   "id": "0ea3571a",
   "metadata": {},
   "source": [
    "## Imports"
   ]
  },
  {
   "cell_type": "code",
   "execution_count": 1,
   "id": "c30456fa",
   "metadata": {},
   "outputs": [],
   "source": [
    "from bs4 import BeautifulSoup\n",
    "import requests\n",
    "from urllib.parse import quote\n",
    "import re\n",
    "import numpy as np"
   ]
  },
  {
   "cell_type": "markdown",
   "id": "c0a73163",
   "metadata": {},
   "source": [
    "## Inputs"
   ]
  },
  {
   "cell_type": "code",
   "execution_count": 2,
   "id": "bf73734b",
   "metadata": {
    "scrolled": true
   },
   "outputs": [],
   "source": [
    "session_cookie = quote(\"UyfbwAuNgiGBW0Kls24zFdDxjkJhCZoFxw5Vy76OKto/YwnvlKRF1ZaqmqE9foWEEx1SamHVsDzGAc0aGM6uGhmdRyny6esb962ttVGDF89T1OsQwHq4NVwuasvgg70NowAMhqKnvek86bhM4J5o/Oe7xXR/VHKn1rIs62jBCmS/0YZwVZWyoBMrDYbw/IP6lk6Y+hU8Fx6qAk5Mx+9p0D4AdIPhypmERFU56ii6DZoUcL9ixUfbo8gNpbDF+JU0n/3o/46YfTDlPJDVy3HkuzA/Q9GwzkiRYvy0a2LMlP7buFEdIwJcom+S38CH3axZUJv0pMH4DyLVTLv5Y9idMcBJH1gq69xpIN+sqQ==--Pa3YFPf36fSY1YAh--tIcJOkufJL4qrIwDtEiVeQ==\", safe = \"\")\n",
    "#session_cookie = quote(input(\"Copy LW x AOC session cookie here: \"), safe = \"\")\n",
    "lines = open(\"input.txt\").readlines()"
   ]
  },
  {
   "cell_type": "markdown",
   "id": "389b399d",
   "metadata": {},
   "source": [
    "### Extract Input"
   ]
  },
  {
   "cell_type": "code",
   "execution_count": 3,
   "id": "4544353a",
   "metadata": {},
   "outputs": [],
   "source": [
    "def extract_inputs(line):\n",
    "    _, msg = line.strip().split(\") \", 1)\n",
    "    user_id, message = msg.split(\": \", 1)\n",
    "    return int(user_id), message"
   ]
  },
  {
   "cell_type": "markdown",
   "id": "c1ceae68",
   "metadata": {},
   "source": [
    "## AOC Interface"
   ]
  },
  {
   "cell_type": "code",
   "execution_count": 19,
   "id": "a9482b27",
   "metadata": {},
   "outputs": [
    {
     "name": "stdout",
     "output_type": "stream",
     "text": [
      "([12, 8, 12, 6, 2, 7, 5, 21, 4, 1, 27, 59, 20, 32, 11, 35, 11, -1, -1, -1, 36, 10, 16, -1, -1], [11, 6, 2, 3, 1, 2, 2, 8, 7, 5, 26, 55, 14, 22, 19, 31, 13, -1, -1, -1, -1, -1, -1, -1, -1])\n"
     ]
    }
   ],
   "source": [
    "def get_user_rankings(user_id):\n",
    "    '''\n",
    "    Get daily rankings from day 1 through 25 for user_id.\n",
    "    Returns two separate lists for parts 1 and 2.\n",
    "    '''\n",
    "    # Settings\n",
    "    cookies = {\n",
    "        \"_lewagon_aoc_session\": session_cookie,\n",
    "    }\n",
    "    headers = {\n",
    "        \"User-Agent\": \"Mozilla/5.0 (Windows NT 10.0; Win64; x64; rv:95.0) Gecko/20100101 Firefox/95.0\",\n",
    "        \"Accept\": \"text/html, application/xhtml+xml\",\n",
    "        \"Accept-Language\": \"de,en-US;q=0.7,en;q=0.3\",\n",
    "        \"Accept-Encoding\": \"gzip, deflate, br\",\n",
    "        \"Referer\": \"https://aoc.lewagon.community/\",\n",
    "        \"Turbolinks-Referrer\": \"https://aoc.lewagon.community/\",\n",
    "        \"DNT\": \"1\",\n",
    "        \"Connection\": \"keep-alive\",\n",
    "        \"Sec-Fetch-Dest\": \"empty\",\n",
    "        \"Sec-Fetch-Mode\": \"cors\",\n",
    "        \"Sec-Fetch-Site\": \"same-origin\",\n",
    "    }\n",
    "    url = \"https://aoc.lewagon.community/stats/users/\"\n",
    "    # Initiate lists\n",
    "    part_one = []\n",
    "    part_two = []\n",
    "    # Get data from server\n",
    "    response = requests.get(f\"{url}{user_id}\", headers=headers, cookies=cookies)\n",
    "    soup = BeautifulSoup(response.text, \"html.parser\")\n",
    "    table = soup.findAll(\"table\")[0]\n",
    "    # Iterate over rows in table\n",
    "    for idx, row in enumerate(table.findAll(\"tr\")):\n",
    "        if idx > 1:\n",
    "            cells = row.findAll(\"td\")\n",
    "            part_one.append(cells[1].get_text())\n",
    "            part_two.append(cells[4].get_text())\n",
    "    # Reverse order and turn strings into numbers\n",
    "    part_one = [int(c) if c.isnumeric() else -1 for c in part_one[::-1]]\n",
    "    part_two = [int(c) if c.isnumeric() else -1 for c in part_two[::-1]]\n",
    "    return part_one, part_two\n",
    "print(get_user_rankings(134))"
   ]
  },
  {
   "cell_type": "markdown",
   "id": "c03a4633",
   "metadata": {},
   "source": [
    "## Encryption"
   ]
  },
  {
   "cell_type": "markdown",
   "id": "eaa7e418",
   "metadata": {},
   "source": [
    "### Product"
   ]
  },
  {
   "cell_type": "code",
   "execution_count": 5,
   "id": "333528b9",
   "metadata": {},
   "outputs": [],
   "source": [
    "def prod(key):\n",
    "    '''\n",
    "    Returns product of key elements\n",
    "    '''\n",
    "    a = 1\n",
    "    for i in key:\n",
    "        a *= i\n",
    "    return a"
   ]
  },
  {
   "cell_type": "markdown",
   "id": "d1a3dda3",
   "metadata": {},
   "source": [
    "### Get Cipher"
   ]
  },
  {
   "cell_type": "code",
   "execution_count": 6,
   "id": "3e779c85",
   "metadata": {},
   "outputs": [],
   "source": [
    "def get_cipher(user_id, key):\n",
    "    return int(str(abs(prod(key) + user_id * (1 if user_id % 2 == 0 else -1)))[::3])"
   ]
  },
  {
   "cell_type": "markdown",
   "id": "b925c07b",
   "metadata": {},
   "source": [
    "### Get Ternary"
   ]
  },
  {
   "cell_type": "code",
   "execution_count": 7,
   "id": "d7edd103",
   "metadata": {},
   "outputs": [],
   "source": [
    "def get_ternary(cipher):\n",
    "    if cipher == 0:\n",
    "        return \"0\"\n",
    "    nums = []\n",
    "    while cipher:\n",
    "        cipher, r = divmod(cipher, 3)\n",
    "        nums.append(str(r))\n",
    "    return \"\".join(reversed(nums))"
   ]
  },
  {
   "cell_type": "markdown",
   "id": "b1b5fc99",
   "metadata": {},
   "source": [
    "### Shuffle String"
   ]
  },
  {
   "cell_type": "code",
   "execution_count": 8,
   "id": "acd16d3a",
   "metadata": {},
   "outputs": [],
   "source": [
    "def shuffle_string(message, ter_cipher):\n",
    "    for idx, val in enumerate(ter_cipher):\n",
    "        if val == \"0\":\n",
    "            message = message[::-1]\n",
    "        elif val == \"1\":\n",
    "            message = message[-1] + message[:-1]\n",
    "        else:\n",
    "            shift = (3**(len(ter_cipher) - idx - 1)) % len(message)\n",
    "            message = message[shift:] + message[:shift]\n",
    "    return message"
   ]
  },
  {
   "cell_type": "markdown",
   "id": "58a8ed8c",
   "metadata": {},
   "source": [
    "### Prime Factor Sum"
   ]
  },
  {
   "cell_type": "code",
   "execution_count": 9,
   "id": "6c2aefad",
   "metadata": {},
   "outputs": [],
   "source": [
    "def get_prime_factor_sum(cipher):\n",
    "    factors = []\n",
    "    f = 2\n",
    "    while f * f <= cipher:\n",
    "        if cipher % f:\n",
    "            f += 1\n",
    "        else:\n",
    "            cipher //= f\n",
    "            factors.append(f)\n",
    "    if cipher > 1:\n",
    "        factors.append(cipher)\n",
    "    return np.sum(factors) + (5 if len(factors) == 1 else 0)"
   ]
  },
  {
   "cell_type": "markdown",
   "id": "91b39a6d",
   "metadata": {},
   "source": [
    "## Jinglebet/Rudolphabet"
   ]
  },
  {
   "cell_type": "markdown",
   "id": "c28b68b3",
   "metadata": {},
   "source": [
    "### Get lyrics string"
   ]
  },
  {
   "cell_type": "code",
   "execution_count": 10,
   "id": "671597c1",
   "metadata": {
    "scrolled": true
   },
   "outputs": [],
   "source": [
    "jinglebet_url = \"https://www.41051.com/xmaslyrics/jingle.html\"\n",
    "rudolphabet_url = \"https://www.41051.com/xmaslyrics/rudolph.html\"\n",
    "soup = BeautifulSoup(requests.get(rudolphabet_url).text, 'html.parser')\n",
    "lyrics = re.sub(\"[^a-zA-Z]+\", \"\", \"\".join(soup.find(\"span\", {\"class\": \"bodytext\"}).get_text().split()))"
   ]
  },
  {
   "cell_type": "markdown",
   "id": "b8115dbe",
   "metadata": {},
   "source": [
    "### Extract characters in order"
   ]
  },
  {
   "cell_type": "code",
   "execution_count": 11,
   "id": "05c8a2e2",
   "metadata": {},
   "outputs": [],
   "source": [
    "alphabet = list(\"ABCDEFGHIJKLMNOPQRSTUVWXYZabcdefghijklmnopqrstuvwxyzÇàéè0123456789 .!?,;:'-#/\\()\")\n",
    "new_alphabet = \"\"\n",
    "for char in lyrics:\n",
    "    if char not in new_alphabet:\n",
    "        new_alphabet += char\n",
    "        alphabet.pop(alphabet.index(char))\n",
    "new_alphabet += \"\".join(alphabet)"
   ]
  },
  {
   "cell_type": "markdown",
   "id": "2e7d0df7",
   "metadata": {},
   "source": [
    "### Shift Alphabet"
   ]
  },
  {
   "cell_type": "code",
   "execution_count": 12,
   "id": "c176fb3e",
   "metadata": {},
   "outputs": [],
   "source": [
    "def shift_alphabet(shift):\n",
    "    shift = shift % len(new_alphabet)\n",
    "    shifted_alphabet = new_alphabet[-shift:] + new_alphabet[:-shift]\n",
    "    return shifted_alphabet"
   ]
  },
  {
   "cell_type": "markdown",
   "id": "12778119",
   "metadata": {},
   "source": [
    "### Shift Message"
   ]
  },
  {
   "cell_type": "code",
   "execution_count": 13,
   "id": "d25f477b",
   "metadata": {},
   "outputs": [],
   "source": [
    "def shift_message(message, shifted_alphabet):\n",
    "    return \"\".join([shifted_alphabet[new_alphabet.index(char)] for char in message])"
   ]
  },
  {
   "cell_type": "markdown",
   "id": "21aa79eb",
   "metadata": {},
   "source": [
    "## Run Encryption"
   ]
  },
  {
   "cell_type": "code",
   "execution_count": 14,
   "id": "6ffe5a63",
   "metadata": {
    "scrolled": true
   },
   "outputs": [],
   "source": [
    "f = open(\"output.txt\", \"w\")\n",
    "for line in lines:\n",
    "    user_id, message = extract_inputs(line)\n",
    "    _, dkey = get_user_rankings(user_id)\n",
    "    cipher = get_cipher(user_id, dkey)\n",
    "    ter_cipher = get_ternary(cipher)\n",
    "    shifted_alphabet = shift_alphabet(get_prime_factor_sum(cipher))\n",
    "    shifted_message = shift_message(message, shifted_alphabet)\n",
    "    shuffled_message = shuffle_string(shifted_message, ter_cipher)\n",
    "    f.write(f\"{user_id}: {shuffled_message}\\n\")\n",
    "f.close()"
   ]
  },
  {
   "cell_type": "code",
   "execution_count": null,
   "id": "1aa90e4d",
   "metadata": {},
   "outputs": [],
   "source": []
  }
 ],
 "metadata": {
  "kernelspec": {
   "display_name": "Python 3 (ipykernel)",
   "language": "python",
   "name": "python3"
  },
  "language_info": {
   "codemirror_mode": {
    "name": "ipython",
    "version": 3
   },
   "file_extension": ".py",
   "mimetype": "text/x-python",
   "name": "python",
   "nbconvert_exporter": "python",
   "pygments_lexer": "ipython3",
   "version": "3.8.6"
  },
  "toc": {
   "base_numbering": 1,
   "nav_menu": {},
   "number_sections": true,
   "sideBar": true,
   "skip_h1_title": false,
   "title_cell": "Table of Contents",
   "title_sidebar": "Contents",
   "toc_cell": false,
   "toc_position": {},
   "toc_section_display": true,
   "toc_window_display": false
  }
 },
 "nbformat": 4,
 "nbformat_minor": 5
}
