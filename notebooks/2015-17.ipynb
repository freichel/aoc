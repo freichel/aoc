{
 "cells": [
  {
   "cell_type": "code",
   "execution_count": 24,
   "id": "01d178d0",
   "metadata": {},
   "outputs": [],
   "source": [
    "from itertools import combinations"
   ]
  },
  {
   "cell_type": "code",
   "execution_count": 12,
   "id": "82d8b585",
   "metadata": {},
   "outputs": [],
   "source": [
    "filename = \"2015-17.txt\"\n",
    "containers = list(map(int, open(filename).readlines()))"
   ]
  },
  {
   "cell_type": "code",
   "execution_count": 23,
   "id": "093922aa",
   "metadata": {},
   "outputs": [
    {
     "name": "stdout",
     "output_type": "stream",
     "text": [
      "57\n"
     ]
    }
   ],
   "source": [
    "print(len(sorted([c for i in range(len(containers)) for c in combinations(containers, i + 1) if sum(c) == 150 and len(c) == 4], key = len)))"
   ]
  },
  {
   "cell_type": "code",
   "execution_count": null,
   "id": "ffe50ccc",
   "metadata": {},
   "outputs": [],
   "source": []
  }
 ],
 "metadata": {
  "kernelspec": {
   "display_name": "Python 3 (ipykernel)",
   "language": "python",
   "name": "python3"
  },
  "language_info": {
   "codemirror_mode": {
    "name": "ipython",
    "version": 3
   },
   "file_extension": ".py",
   "mimetype": "text/x-python",
   "name": "python",
   "nbconvert_exporter": "python",
   "pygments_lexer": "ipython3",
   "version": "3.8.6"
  },
  "toc": {
   "base_numbering": 1,
   "nav_menu": {},
   "number_sections": true,
   "sideBar": true,
   "skip_h1_title": false,
   "title_cell": "Table of Contents",
   "title_sidebar": "Contents",
   "toc_cell": false,
   "toc_position": {},
   "toc_section_display": true,
   "toc_window_display": false
  }
 },
 "nbformat": 4,
 "nbformat_minor": 5
}
