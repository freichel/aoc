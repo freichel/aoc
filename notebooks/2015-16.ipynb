{
 "cells": [
  {
   "cell_type": "code",
   "execution_count": 2,
   "id": "8b8ae200",
   "metadata": {},
   "outputs": [],
   "source": [
    "import numpy as np"
   ]
  },
  {
   "cell_type": "code",
   "execution_count": 3,
   "id": "3e448a09",
   "metadata": {},
   "outputs": [],
   "source": [
    "properties = {\"children\": 3,\n",
    "    \"cats\": 7,\n",
    "    \"samoyeds\": 2,\n",
    "    \"pomeranians\": 3,\n",
    "    \"akitas\": 0,\n",
    "    \"vizslas\": 0,\n",
    "    \"goldfish\": 5,\n",
    "    \"trees\": 3,\n",
    "    \"cars\": 2,\n",
    "    \"perfumes\": 1\n",
    "}"
   ]
  },
  {
   "cell_type": "code",
   "execution_count": 39,
   "id": "a64e7b8d",
   "metadata": {},
   "outputs": [
    {
     "name": "stdout",
     "output_type": "stream",
     "text": [
      "213\n"
     ]
    }
   ],
   "source": [
    "filename = \"2015-16.txt\"\n",
    "aunts = []\n",
    "for idx, line in enumerate(open(filename).readlines()):\n",
    "    aunt = [idx + 1]\n",
    "    _, props = line.strip().split(\": \", 1)\n",
    "    props = {p.split(\": \")[0]: int(p.split(\": \")[1]) for p in props.split(\", \")}\n",
    "    for prop in properties:\n",
    "        if prop in props:\n",
    "            aunt.append(props[prop])\n",
    "        else:\n",
    "            aunt.append(None)\n",
    "    aunts.append(aunt)\n",
    "aunts = np.array(aunts)\n",
    "\n",
    "for idx, val in enumerate(properties.values()):\n",
    "    aunts = aunts[(aunts[:, idx + 1] == val) | (aunts[:, idx + 1] == None)]\n",
    "print(aunts[0][0])"
   ]
  },
  {
   "cell_type": "code",
   "execution_count": 59,
   "id": "c7a1bf7c",
   "metadata": {},
   "outputs": [
    {
     "name": "stdout",
     "output_type": "stream",
     "text": [
      "323.0\n"
     ]
    }
   ],
   "source": [
    "filename = \"2015-16.txt\"\n",
    "aunts = []\n",
    "for idx, line in enumerate(open(filename).readlines()):\n",
    "    aunt = [idx + 1]\n",
    "    _, props = line.strip().split(\": \", 1)\n",
    "    props = {p.split(\": \")[0]: int(p.split(\": \")[1]) for p in props.split(\", \")}\n",
    "    for prop in properties:\n",
    "        if prop in props:\n",
    "            aunt.append(props[prop])\n",
    "        else:\n",
    "            aunt.append(np.nan)\n",
    "    aunts.append(aunt)\n",
    "aunts = np.array(aunts)\n",
    "\n",
    "for idx, val in enumerate(properties.values()):\n",
    "    if idx in (1, 7):\n",
    "        aunts = aunts[(aunts[:, idx + 1] > val) | np.isnan(aunts[:, idx + 1])]\n",
    "    elif idx in (3, 6):\n",
    "        aunts = aunts[(aunts[:, idx + 1] < val) | np.isnan(aunts[:, idx + 1])]\n",
    "    else:\n",
    "        aunts = aunts[(aunts[:, idx + 1] == val) | np.isnan(aunts[:, idx + 1])]\n",
    "print(aunts[0][0])"
   ]
  },
  {
   "cell_type": "code",
   "execution_count": null,
   "id": "734fba30",
   "metadata": {},
   "outputs": [],
   "source": []
  }
 ],
 "metadata": {
  "kernelspec": {
   "display_name": "Python 3 (ipykernel)",
   "language": "python",
   "name": "python3"
  },
  "language_info": {
   "codemirror_mode": {
    "name": "ipython",
    "version": 3
   },
   "file_extension": ".py",
   "mimetype": "text/x-python",
   "name": "python",
   "nbconvert_exporter": "python",
   "pygments_lexer": "ipython3",
   "version": "3.8.6"
  },
  "toc": {
   "base_numbering": 1,
   "nav_menu": {},
   "number_sections": true,
   "sideBar": true,
   "skip_h1_title": false,
   "title_cell": "Table of Contents",
   "title_sidebar": "Contents",
   "toc_cell": false,
   "toc_position": {},
   "toc_section_display": true,
   "toc_window_display": false
  }
 },
 "nbformat": 4,
 "nbformat_minor": 5
}
