{
 "cells": [
  {
   "cell_type": "markdown",
   "id": "f2a309a9",
   "metadata": {},
   "source": [
    "## Imports"
   ]
  },
  {
   "cell_type": "code",
   "execution_count": 1,
   "id": "43a4c2c1",
   "metadata": {},
   "outputs": [],
   "source": [
    "import requests\n",
    "from bs4 import BeautifulSoup\n",
    "from urllib.parse import quote\n",
    "import numpy as np\n",
    "import re"
   ]
  },
  {
   "cell_type": "markdown",
   "id": "28cf59e8",
   "metadata": {},
   "source": [
    "## Data"
   ]
  },
  {
   "cell_type": "code",
   "execution_count": 2,
   "id": "8fdbd51d",
   "metadata": {},
   "outputs": [],
   "source": [
    "session_cookie = quote(\"UyfbwAuNgiGBW0Kls24zFdDxjkJhCZoFxw5Vy76OKto/YwnvlKRF1ZaqmqE9foWEEx1SamHVsDzGAc0aGM6uGhmdRyny6esb962ttVGDF89T1OsQwHq4NVwuasvgg70NowAMhqKnvek86bhM4J5o/Oe7xXR/VHKn1rIs62jBCmS/0YZwVZWyoBMrDYbw/IP6lk6Y+hU8Fx6qAk5Mx+9p0D4AdIPhypmERFU56ii6DZoUcL9ixUfbo8gNpbDF+JU0n/3o/46YfTDlPJDVy3HkuzA/Q9GwzkiRYvy0a2LMlP7buFEdIwJcom+S38CH3axZUJv0pMH4DyLVTLv5Y9idMcBJH1gq69xpIN+sqQ==--Pa3YFPf36fSY1YAh--tIcJOkufJL4qrIwDtEiVeQ==\", safe = \"\")\n",
    "#session_cookie = quote(input(\"Copy LW x AOC session cookie here: \"))\n",
    "jinglebet_url = \"https://www.41051.com/xmaslyrics/jingle.html\"\n",
    "rudolphabet_url = \"https://www.41051.com/xmaslyrics/rudolph.html\"\n",
    "alphabet = list(\"ABCDEFGHIJKLMNOPQRSTUVWXYZabcdefghijklmnopqrstuvwxyzÇàéè0123456789 .!?,;:'-#/\\()\")"
   ]
  },
  {
   "cell_type": "markdown",
   "id": "1e1b7ba8",
   "metadata": {},
   "source": [
    "## Temp"
   ]
  },
  {
   "cell_type": "code",
   "execution_count": 3,
   "id": "8fce884c",
   "metadata": {},
   "outputs": [],
   "source": [
    "lines = [line.strip(\"\\n\") for line in open(\"output.txt\").readlines()]"
   ]
  },
  {
   "cell_type": "markdown",
   "id": "c4706aad",
   "metadata": {},
   "source": [
    "## Functions"
   ]
  },
  {
   "cell_type": "markdown",
   "id": "09642e89",
   "metadata": {},
   "source": [
    "### AOC Interface"
   ]
  },
  {
   "cell_type": "code",
   "execution_count": 4,
   "id": "06ec51d1",
   "metadata": {},
   "outputs": [
    {
     "name": "stdout",
     "output_type": "stream",
     "text": [
      "([55, 235, 76, 86, 61, 77, 49, 12, 86, 56, 45, 38, 68, 57, 29, 33, 7, 17, 7, 23, 25, 21, 15, 5, 14], [53, 228, 75, 70, 49, 118, 44, 16, 72, 54, 44, 32, 61, 43, 31, 26, 7, 13, 4, 19, 16, 4, 6, 3, 13])\n"
     ]
    }
   ],
   "source": [
    "def get_user_rankings(user_id):\n",
    "    '''\n",
    "    Get daily rankings from day 1 through 25 for user_id.\n",
    "    Returns two separate lists for parts 1 and 2.\n",
    "    '''\n",
    "    # Settings\n",
    "    cookies = {\n",
    "        \"_lewagon_aoc_session\": session_cookie,\n",
    "    }\n",
    "    headers = {\n",
    "        \"User-Agent\": \"Mozilla/5.0 (Windows NT 10.0; Win64; x64; rv:95.0) Gecko/20100101 Firefox/95.0\",\n",
    "        \"Accept\": \"text/html, application/xhtml+xml\",\n",
    "        \"Accept-Language\": \"de,en-US;q=0.7,en;q=0.3\",\n",
    "        \"Accept-Encoding\": \"gzip, deflate, br\",\n",
    "        \"Referer\": \"https://aoc.lewagon.community/\",\n",
    "        \"Turbolinks-Referrer\": \"https://aoc.lewagon.community/\",\n",
    "        \"DNT\": \"1\",\n",
    "        \"Connection\": \"keep-alive\",\n",
    "        \"Sec-Fetch-Dest\": \"empty\",\n",
    "        \"Sec-Fetch-Mode\": \"cors\",\n",
    "        \"Sec-Fetch-Site\": \"same-origin\",\n",
    "    }\n",
    "    url = \"https://aoc.lewagon.community/stats/users/\"\n",
    "    # Initiate lists\n",
    "    part_one = []\n",
    "    part_two = []\n",
    "    # Get data from server\n",
    "    response = requests.get(f\"{url}{user_id}\", headers=headers, cookies=cookies)\n",
    "    soup = BeautifulSoup(response.text, \"html.parser\")\n",
    "    table = soup.findAll(\"table\")[0]\n",
    "    # Iterate over rows in table\n",
    "    for idx, row in enumerate(table.findAll(\"tr\")):\n",
    "        if idx > 1:\n",
    "            cells = row.findAll(\"td\")\n",
    "            part_one.append(cells[1].get_text())\n",
    "            part_two.append(cells[4].get_text())\n",
    "    # Reverse order and turn strings into numbers\n",
    "    part_one = [int(c) if c.isnumeric() else -1 for c in part_one[::-1]]\n",
    "    part_two = [int(c) if c.isnumeric() else -1 for c in part_two[::-1]]\n",
    "    return part_one, part_two\n",
    "print(get_user_rankings(59))"
   ]
  },
  {
   "cell_type": "markdown",
   "id": "24f7030f",
   "metadata": {},
   "source": [
    "### Data Import"
   ]
  },
  {
   "cell_type": "code",
   "execution_count": 5,
   "id": "953fa902",
   "metadata": {},
   "outputs": [],
   "source": [
    "def extract_inputs(line):\n",
    "    '''\n",
    "    Splits each line string into user ID (int) and message (str)\n",
    "    '''\n",
    "    user_id, message = line.split(\": \", 1)\n",
    "    return int(user_id), message"
   ]
  },
  {
   "cell_type": "markdown",
   "id": "6527904e",
   "metadata": {},
   "source": [
    "### Product"
   ]
  },
  {
   "cell_type": "code",
   "execution_count": 6,
   "id": "5d658092",
   "metadata": {},
   "outputs": [],
   "source": [
    "def prod(key):\n",
    "    '''\n",
    "    Returns product of key elements\n",
    "    '''\n",
    "    a = 1\n",
    "    for i in key:\n",
    "        a *= i\n",
    "    return a"
   ]
  },
  {
   "cell_type": "markdown",
   "id": "f0c8f21d",
   "metadata": {},
   "source": [
    "### Ternary Conversion"
   ]
  },
  {
   "cell_type": "code",
   "execution_count": 7,
   "id": "aeea4a12",
   "metadata": {},
   "outputs": [],
   "source": [
    "def get_ternary(cipher):\n",
    "    '''\n",
    "    Returns ternary representation of number\n",
    "    '''\n",
    "    if cipher == 0:\n",
    "        return \"0\"\n",
    "    nums = []\n",
    "    while cipher:\n",
    "        cipher, r = divmod(cipher, 3)\n",
    "        nums.append(str(r))\n",
    "    return \"\".join(reversed(nums))"
   ]
  },
  {
   "cell_type": "markdown",
   "id": "c71b1c19",
   "metadata": {},
   "source": [
    "### String Shuffle"
   ]
  },
  {
   "cell_type": "code",
   "execution_count": 8,
   "id": "191d0221",
   "metadata": {},
   "outputs": [],
   "source": [
    "def shuffle_string(message, ter_cipher):\n",
    "    '''\n",
    "    Shuffles string according to rules\n",
    "    '''\n",
    "    for idx, val in enumerate(ter_cipher[::-1]):\n",
    "        if val == \"0\":\n",
    "            message = message[::-1]\n",
    "        elif val == \"1\":\n",
    "            message = message[1:] + message[0]\n",
    "        else:\n",
    "            shift = (3**idx) % len(message)\n",
    "            message = message[-shift:] + message[:-shift]\n",
    "    return message"
   ]
  },
  {
   "cell_type": "markdown",
   "id": "b02861db",
   "metadata": {},
   "source": [
    "### Prime Factors"
   ]
  },
  {
   "cell_type": "code",
   "execution_count": 9,
   "id": "84288513",
   "metadata": {},
   "outputs": [],
   "source": [
    "def get_prime_factor_sum(cipher):\n",
    "    '''\n",
    "    Break number into prime factors and return sum, or sum + 5 if only two factors\n",
    "    '''\n",
    "    factors = []\n",
    "    f = 2\n",
    "    while f * f <= cipher:\n",
    "        if cipher % f:\n",
    "            f += 1\n",
    "        else:\n",
    "            cipher //= f\n",
    "            factors.append(f)\n",
    "    if cipher > 1:\n",
    "        factors.append(cipher)\n",
    "    return np.sum(factors) + (5 if len(factors) == 1 else 0)"
   ]
  },
  {
   "cell_type": "markdown",
   "id": "eaf18809",
   "metadata": {},
   "source": [
    "### Jinglebet/Rudolphabet Shifting"
   ]
  },
  {
   "cell_type": "code",
   "execution_count": 10,
   "id": "159b5623",
   "metadata": {},
   "outputs": [],
   "source": [
    "def get_alphabet(url):\n",
    "    '''\n",
    "    Get re-sorted alphabet\n",
    "    '''\n",
    "    # Get lyrics from web\n",
    "    soup = BeautifulSoup(requests.get(url).text, \"html.parser\")\n",
    "    lyrics = re.sub(\"[^a-zA-Z]+\", \"\", \"\".join(soup.find(\"span\", {\"class\": \"bodytext\"}).get_text().split()))\n",
    "    # Add relevant letters in order they appear\n",
    "    new_alphabet = \"\"\n",
    "    for char in lyrics:\n",
    "        if char not in new_alphabet:\n",
    "            new_alphabet += char\n",
    "            alphabet.pop(alphabet.index(char))\n",
    "    # Add remaining letters that did not feature in the lyrics\n",
    "    new_alphabet += \"\".join(alphabet)\n",
    "    return new_alphabet\n",
    "\n",
    "def shift_alphabet(shift):\n",
    "    '''\n",
    "    Shift alphabet required number of characters\n",
    "    '''\n",
    "    shift = shift % len(new_alphabet)\n",
    "    shifted_alphabet = new_alphabet[-shift:] + new_alphabet[:-shift]\n",
    "    return shifted_alphabet\n",
    "\n",
    "def shift_message(message, shifted_alphabet):\n",
    "    return \"\".join([new_alphabet[shifted_alphabet.index(char)] for char in message])"
   ]
  },
  {
   "cell_type": "markdown",
   "id": "708b4ff5",
   "metadata": {},
   "source": [
    "## Part 1"
   ]
  },
  {
   "cell_type": "code",
   "execution_count": 11,
   "id": "aa458cd3",
   "metadata": {
    "scrolled": true
   },
   "outputs": [
    {
     "name": "stdout",
     "output_type": "stream",
     "text": [
      "9913814436643373168640000000\n"
     ]
    }
   ],
   "source": [
    "print(prod(get_user_rankings(1)[1]))"
   ]
  },
  {
   "cell_type": "code",
   "execution_count": null,
   "id": "7a347b2d",
   "metadata": {},
   "outputs": [],
   "source": [
    "9913814436643373168640000000\n",
    "9913814436643373168640000000"
   ]
  },
  {
   "cell_type": "markdown",
   "id": "c25de5a5",
   "metadata": {},
   "source": [
    "## Part 2"
   ]
  },
  {
   "cell_type": "code",
   "execution_count": 12,
   "id": "7e7f6219",
   "metadata": {},
   "outputs": [
    {
     "name": "stdout",
     "output_type": "stream",
     "text": [
      "391: Dear Pilou, we can't wait to host you in BXL, town of your batch - the best - #1970. Love!\n",
      "312: Thank you Pilou for giving me a reason for getting back in touch with my batchmates... and for making me face the fact that I'm still a super mediocre programmer\n",
      "549: Hi Pilou, thank you for taking the time to build this platform for AOC '21. It's been really good fun and a great learning opportunity as well. Thanks\n",
      "710: Vive le Pilou, à bas le poisson!\n",
      "507: Thank you Pilou, for all of your work to make Le Wagon x AoC such a great event!!! Looking forward to next year!\n",
      "17: Many thanks for introducing us to AoC (I had no idea it was a thing before). I learned so much, mainly about recursion, complexity and concepts that come up a lot with it (BFS, DFS, Dijkstra etc). Wishing you and yours eternal joy and happiness and I look forward to next year's AoC\n",
      "305: thanks pil0u for this event, it was awesome to meet the growing community, I can't wait for the next edition !\n",
      "660: Merci Pilou pour ce bon moment, et pour le site qui rend la compétition encore plus excitante ! Vivement l'année prochaine pour défendre encore mieux les couleurs de Bordeaux !\n",
      "212: Merci infiniment d'avoir apporté AoC au Wagon et de m'avoir fait découvrir ce challenge. Sans toi, mon mois de décembre aurait été beaucoup plus pénible et je n'aurais jamais autant appris en si peu de temps. Ton initiative montre aussi ce que signifie la communauté du Wagon. J'espère que cette expérience aura été aussi enrichissante pour toi en tant qu'organisateur et je suis ravie de dire, à l'année prochaine ! xx\n",
      "249: Hi Pilou -- Thank you so much for giving me a reason to do the advent of code and giving the opportunity to Brussels to show it's the best city in the world\n",
      "355: Thanks a lot Pil0u for this great learning opportunity and for allowing me to enjoy so many sunrises in December. BTW do not forget to feed Dijkstra with all the lanternfish and dumbo octopuses collected during AoC !\n",
      "253: Thank you very much for this, It was amazing ! And see you next year ;)\n",
      "323: Hey Pilou, thank you so much for your work on the le wagon aoc! For me as student from the most recent batch(#740) it was a perfect way to keep on practicing. Competing with my batchmates was also a great way to connect with them and stay in touch. The work you put into organizing this for us is greatly appreciated!\n",
      "198: Thank you Pilou for making me stay awake or waking me up at 4;30 some days. Sorry that I didn't spend more time on looking at the dump you gave me but hey, I was already tired enough ! Anyway thanks again for all the work you put on the leaderboard and to make people enjoy doing some programming every day. Cheers\n",
      "350: Salut Pilou ! Ça y est... c'est la fin pour cette édition, et pour de vrai cette fois ! C'était vraiment un plaisir de collaborer avec toi sur ce beau projet en tout cas. Merci pour tous tes efforts au niveau de l'orga comme du code, et au plaisir de repartir pour un tour l'an pro :D\n",
      "101: Hi Pilou, first of all you're welcome we didn't make you solve this at 6am! But seriously, thanks a lot for introducing me to AOC. I had an absolute blast solving these challenges, interacting with the community and adding fish to my shit list.\n",
      "135: Thank you so much for setting up LW x AoC! As a new Le Wagon graduate it was such a great opportunity. I had lots of fun, looking forward to next year! Bonus thank you photo: https://imgur.com/joIyg2B\n",
      "326: Merci Pil0u for creating this AMAZING event for us! It kind of screwed up my cosy Christmas time, but I loved it and I am very much looking forward to next December! I would not have been able to get this far w/o this awesome community!\n",
      "503: Hi Pilou, Thank you for organising and inviting us to this amazing coding challenge! I wish you a great new year 2022 and I hope to be able to join advent of code with LeWagon again! All the best\n",
      "109: Hello Pilou. Merci encore énormément pour l'organisation du AOC Wagon. C'était une super expérience, autant l'apprentissage et la compétition que les rencontres et le partage sur le slack dédié :) J'espère que cela s'est déroulé à la hauteur de tes attentes également. A l'année prochaine ;)\n"
     ]
    }
   ],
   "source": [
    "# Obtain new alphabet\n",
    "new_alphabet = get_alphabet(rudolphabet_url)\n",
    "\n",
    "# Iterate over messages\n",
    "for line in lines:\n",
    "    # Extract data\n",
    "    user_id, message = extract_inputs(line)\n",
    "    # Find daily rankings\n",
    "    rankings = get_user_rankings(user_id)\n",
    "    # Get cipher\n",
    "    cipher = int(str(abs(prod(rankings[1]) + user_id * (1 if user_id % 2 == 0 else -1)))[::3])\n",
    "    # Convert into ternary\n",
    "    ter_cipher = get_ternary(cipher)\n",
    "    # Shuffle string\n",
    "    message = shuffle_string(message, ter_cipher)\n",
    "    # Obtain shifted alphabet\n",
    "    shifted_alphabet = shift_alphabet(get_prime_factor_sum(cipher))\n",
    "    # Decode message\n",
    "    message = shift_message(message, shifted_alphabet)\n",
    "    print(f\"{user_id}: {message}\")"
   ]
  },
  {
   "cell_type": "code",
   "execution_count": null,
   "id": "86d3bd8e",
   "metadata": {},
   "outputs": [],
   "source": []
  }
 ],
 "metadata": {
  "kernelspec": {
   "display_name": "Python 3 (ipykernel)",
   "language": "python",
   "name": "python3"
  },
  "language_info": {
   "codemirror_mode": {
    "name": "ipython",
    "version": 3
   },
   "file_extension": ".py",
   "mimetype": "text/x-python",
   "name": "python",
   "nbconvert_exporter": "python",
   "pygments_lexer": "ipython3",
   "version": "3.8.6"
  },
  "toc": {
   "base_numbering": 1,
   "nav_menu": {},
   "number_sections": true,
   "sideBar": true,
   "skip_h1_title": false,
   "title_cell": "Table of Contents",
   "title_sidebar": "Contents",
   "toc_cell": false,
   "toc_position": {},
   "toc_section_display": true,
   "toc_window_display": false
  }
 },
 "nbformat": 4,
 "nbformat_minor": 5
}
