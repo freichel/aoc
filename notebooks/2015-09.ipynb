{
 "cells": [
  {
   "cell_type": "code",
   "execution_count": 7,
   "id": "49a809ba",
   "metadata": {},
   "outputs": [],
   "source": [
    "from itertools import permutations"
   ]
  },
  {
   "cell_type": "code",
   "execution_count": 14,
   "id": "de6d5069",
   "metadata": {},
   "outputs": [],
   "source": [
    "filename = \"2015-09.txt\"\n",
    "locs = dict()\n",
    "for line in open(filename):\n",
    "    a, x, b, y, d = line.strip().split()\n",
    "    if a not in locs:\n",
    "        locs[a] = dict()\n",
    "    if b not in locs:\n",
    "        locs[b] = dict()\n",
    "    locs[a][b] = int(d)\n",
    "    locs[b][a] = int(d)"
   ]
  },
  {
   "cell_type": "code",
   "execution_count": 29,
   "id": "b2703838",
   "metadata": {},
   "outputs": [
    {
     "data": {
      "text/plain": [
       "{('Tristram',\n",
       "  'Faerun',\n",
       "  'Arbre',\n",
       "  'Straylight',\n",
       "  'AlphaCentauri',\n",
       "  'Norrath',\n",
       "  'Tambi',\n",
       "  'Snowdin'): 898}"
      ]
     },
     "execution_count": 29,
     "metadata": {},
     "output_type": "execute_result"
    }
   ],
   "source": [
    "dists = {\"a\": 0}\n",
    "for p in permutations(locs):\n",
    "    d = sum([locs[loc][p[i+1]] for i, loc in enumerate(p[:-1])])\n",
    "    if d > list(dists.values())[0]:\n",
    "        dists = {p: d}\n",
    "dists"
   ]
  },
  {
   "cell_type": "code",
   "execution_count": null,
   "id": "ae1ed261",
   "metadata": {},
   "outputs": [],
   "source": []
  }
 ],
 "metadata": {
  "kernelspec": {
   "display_name": "Python 3 (ipykernel)",
   "language": "python",
   "name": "python3"
  },
  "language_info": {
   "codemirror_mode": {
    "name": "ipython",
    "version": 3
   },
   "file_extension": ".py",
   "mimetype": "text/x-python",
   "name": "python",
   "nbconvert_exporter": "python",
   "pygments_lexer": "ipython3",
   "version": "3.8.6"
  },
  "toc": {
   "base_numbering": 1,
   "nav_menu": {},
   "number_sections": true,
   "sideBar": true,
   "skip_h1_title": false,
   "title_cell": "Table of Contents",
   "title_sidebar": "Contents",
   "toc_cell": false,
   "toc_position": {},
   "toc_section_display": true,
   "toc_window_display": false
  }
 },
 "nbformat": 4,
 "nbformat_minor": 5
}
