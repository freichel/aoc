{
 "cells": [
  {
   "cell_type": "code",
   "execution_count": 94,
   "id": "89a148f0",
   "metadata": {},
   "outputs": [],
   "source": [
    "import numpy as np\n",
    "import io"
   ]
  },
  {
   "cell_type": "code",
   "execution_count": 62,
   "id": "e12f87f6",
   "metadata": {
    "scrolled": true
   },
   "outputs": [],
   "source": [
    "filename = \"2021-03.txt\"\n",
    "vals = np.genfromtxt(filename, delimiter = 1)"
   ]
  },
  {
   "cell_type": "code",
   "execution_count": 63,
   "id": "6e61aedf",
   "metadata": {},
   "outputs": [
    {
     "data": {
      "text/plain": [
       "4118544"
      ]
     },
     "execution_count": 63,
     "metadata": {},
     "output_type": "execute_result"
    }
   ],
   "source": [
    "gamma = int(\"\".join(np.where(np.count_nonzero(vals, axis = 0) * 2 > vals.shape[0], 1, 0).astype(str)), 2)\n",
    "epsilon = int(\"\".join(np.where(np.count_nonzero(vals, axis = 0) * 2 < vals.shape[0], 1, 0).astype(str)), 2)\n",
    "gamma * epsilon"
   ]
  },
  {
   "cell_type": "code",
   "execution_count": 145,
   "id": "28cc7f59",
   "metadata": {},
   "outputs": [
    {
     "data": {
      "text/plain": [
       "array([[  0,   1,   1, ...,  11,  11,  11],\n",
       "       [507, 747, 252, ..., 377, 446, 998]])"
      ]
     },
     "execution_count": 145,
     "metadata": {},
     "output_type": "execute_result"
    }
   ],
   "source": [
    "vfile = io.StringIO()\n",
    "vfile.writelines(list(np.sort(np.loadtxt(filename, dtype = str))))\n",
    "vfile.seek(0)\n",
    "vals = np.reshape(np.genfromtxt(vfile, delimiter = 1), (-1,12))\n",
    "diffs = np.roll(np.stack(np.nonzero(np.diff(vals, axis = 0))), 1, axis = 0)\n",
    "flips = diffs[:,diffs[0,:].argsort()]\n",
    "flips"
   ]
  },
  {
   "cell_type": "code",
   "execution_count": null,
   "id": "2cfbfb9f",
   "metadata": {},
   "outputs": [],
   "source": []
  }
 ],
 "metadata": {
  "kernelspec": {
   "display_name": "Python 3 (ipykernel)",
   "language": "python",
   "name": "python3"
  },
  "language_info": {
   "codemirror_mode": {
    "name": "ipython",
    "version": 3
   },
   "file_extension": ".py",
   "mimetype": "text/x-python",
   "name": "python",
   "nbconvert_exporter": "python",
   "pygments_lexer": "ipython3",
   "version": "3.8.6"
  },
  "toc": {
   "base_numbering": 1,
   "nav_menu": {},
   "number_sections": true,
   "sideBar": true,
   "skip_h1_title": false,
   "title_cell": "Table of Contents",
   "title_sidebar": "Contents",
   "toc_cell": false,
   "toc_position": {},
   "toc_section_display": true,
   "toc_window_display": false
  }
 },
 "nbformat": 4,
 "nbformat_minor": 5
}
