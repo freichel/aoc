{
 "cells": [
  {
   "cell_type": "code",
   "execution_count": 1,
   "id": "7f8e2a2b",
   "metadata": {},
   "outputs": [],
   "source": [
    "from collections import Counter"
   ]
  },
  {
   "cell_type": "code",
   "execution_count": 24,
   "id": "9603732b",
   "metadata": {},
   "outputs": [],
   "source": [
    "filename = \"2015-19.txt\"\n",
    "instr = True\n",
    "rep = dict()\n",
    "for line in open(filename).readlines():\n",
    "    if len(line.strip()) == 0:\n",
    "        instr = False\n",
    "        continue\n",
    "    if instr:\n",
    "        start, end = line.strip().split(\" => \")\n",
    "        if start not in rep:\n",
    "            rep[start] = [end]\n",
    "        else:\n",
    "            rep[start].append(end)\n",
    "        continue\n",
    "    molecule = line.strip()"
   ]
  },
  {
   "cell_type": "code",
   "execution_count": 25,
   "id": "5b810eb4",
   "metadata": {},
   "outputs": [
    {
     "data": {
      "text/plain": [
       "518"
      ]
     },
     "execution_count": 25,
     "metadata": {},
     "output_type": "execute_result"
    }
   ],
   "source": [
    "molecules = Counter()\n",
    "m = molecule\n",
    "for key, repl in rep.items():\n",
    "    for i in range(len(m)):\n",
    "        if m.startswith(key, i):\n",
    "            start = m[:i]\n",
    "            end = m[i + len(key):]\n",
    "            for r in repl:\n",
    "                molecules[start + r + end] += 1\n",
    "len(molecules.keys())"
   ]
  },
  {
   "cell_type": "code",
   "execution_count": 27,
   "id": "d7293e07",
   "metadata": {},
   "outputs": [
    {
     "name": "stdout",
     "output_type": "stream",
     "text": [
      "4\n",
      "21\n",
      "123\n",
      "718\n",
      "4222\n",
      "25404\n",
      "153944\n",
      "946493\n"
     ]
    },
    {
     "ename": "KeyboardInterrupt",
     "evalue": "",
     "output_type": "error",
     "traceback": [
      "\u001b[0;31m---------------------------------------------------------------------------\u001b[0m",
      "\u001b[0;31mKeyboardInterrupt\u001b[0m                         Traceback (most recent call last)",
      "\u001b[0;32m/tmp/ipykernel_438/2179332118.py\u001b[0m in \u001b[0;36m<module>\u001b[0;34m\u001b[0m\n\u001b[1;32m      9\u001b[0m         \u001b[0;32mfor\u001b[0m \u001b[0mkey\u001b[0m\u001b[0;34m,\u001b[0m \u001b[0mrepl\u001b[0m \u001b[0;32min\u001b[0m \u001b[0mrep\u001b[0m\u001b[0;34m.\u001b[0m\u001b[0mitems\u001b[0m\u001b[0;34m(\u001b[0m\u001b[0;34m)\u001b[0m\u001b[0;34m:\u001b[0m\u001b[0;34m\u001b[0m\u001b[0;34m\u001b[0m\u001b[0m\n\u001b[1;32m     10\u001b[0m             \u001b[0;32mfor\u001b[0m \u001b[0mi\u001b[0m \u001b[0;32min\u001b[0m \u001b[0mrange\u001b[0m\u001b[0;34m(\u001b[0m\u001b[0mlen\u001b[0m\u001b[0;34m(\u001b[0m\u001b[0mm\u001b[0m\u001b[0;34m)\u001b[0m\u001b[0;34m)\u001b[0m\u001b[0;34m:\u001b[0m\u001b[0;34m\u001b[0m\u001b[0;34m\u001b[0m\u001b[0m\n\u001b[0;32m---> 11\u001b[0;31m                 \u001b[0;32mif\u001b[0m \u001b[0mm\u001b[0m\u001b[0;34m.\u001b[0m\u001b[0mstartswith\u001b[0m\u001b[0;34m(\u001b[0m\u001b[0mkey\u001b[0m\u001b[0;34m,\u001b[0m \u001b[0mi\u001b[0m\u001b[0;34m)\u001b[0m\u001b[0;34m:\u001b[0m\u001b[0;34m\u001b[0m\u001b[0;34m\u001b[0m\u001b[0m\n\u001b[0m\u001b[1;32m     12\u001b[0m                     \u001b[0mstart\u001b[0m \u001b[0;34m=\u001b[0m \u001b[0mm\u001b[0m\u001b[0;34m[\u001b[0m\u001b[0;34m:\u001b[0m\u001b[0mi\u001b[0m\u001b[0;34m]\u001b[0m\u001b[0;34m\u001b[0m\u001b[0;34m\u001b[0m\u001b[0m\n\u001b[1;32m     13\u001b[0m                     \u001b[0mend\u001b[0m \u001b[0;34m=\u001b[0m \u001b[0mm\u001b[0m\u001b[0;34m[\u001b[0m\u001b[0mi\u001b[0m \u001b[0;34m+\u001b[0m \u001b[0mlen\u001b[0m\u001b[0;34m(\u001b[0m\u001b[0mkey\u001b[0m\u001b[0;34m)\u001b[0m\u001b[0;34m:\u001b[0m\u001b[0;34m]\u001b[0m\u001b[0;34m\u001b[0m\u001b[0;34m\u001b[0m\u001b[0m\n",
      "\u001b[0;31mKeyboardInterrupt\u001b[0m: "
     ]
    }
   ],
   "source": [
    "molecules = Counter()\n",
    "molecules[\"e\"] = 1\n",
    "counter = 0\n",
    "while True:\n",
    "    for m in molecules.copy():\n",
    "        if molecules[m] <= 0:\n",
    "            del molecules[m]\n",
    "            continue\n",
    "        for key, repl in rep.items():\n",
    "            for i in range(len(m)):\n",
    "                if m.startswith(key, i):\n",
    "                    start = m[:i]\n",
    "                    end = m[i + len(key):]\n",
    "                    for r in repl:\n",
    "                        molecules[start + r + end] += 1\n",
    "        molecules[m] -= 1\n",
    "    counter += 1\n",
    "    print(len(molecules))\n",
    "    if molecule in molecules:\n",
    "        break\n",
    "print(counter)"
   ]
  },
  {
   "cell_type": "code",
   "execution_count": null,
   "id": "c35998bc",
   "metadata": {},
   "outputs": [],
   "source": []
  }
 ],
 "metadata": {
  "kernelspec": {
   "display_name": "Python 3 (ipykernel)",
   "language": "python",
   "name": "python3"
  },
  "language_info": {
   "codemirror_mode": {
    "name": "ipython",
    "version": 3
   },
   "file_extension": ".py",
   "mimetype": "text/x-python",
   "name": "python",
   "nbconvert_exporter": "python",
   "pygments_lexer": "ipython3",
   "version": "3.8.6"
  },
  "toc": {
   "base_numbering": 1,
   "nav_menu": {},
   "number_sections": true,
   "sideBar": true,
   "skip_h1_title": false,
   "title_cell": "Table of Contents",
   "title_sidebar": "Contents",
   "toc_cell": false,
   "toc_position": {},
   "toc_section_display": true,
   "toc_window_display": false
  }
 },
 "nbformat": 4,
 "nbformat_minor": 5
}
